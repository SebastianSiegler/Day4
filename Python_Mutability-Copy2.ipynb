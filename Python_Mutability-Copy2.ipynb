{
 "cells": [
  {
   "cell_type": "markdown",
   "metadata": {},
   "source": [
    "# Tuples\n",
    "\n",
    "\n",
    "A tuple is a sequence of immutable python objects\n",
    "\n",
    "\n",
    "\n",
    "### How to construct\n",
    "\n"
   ]
  },
  {
   "cell_type": "markdown",
   "metadata": {},
   "source": [
    "\n",
    "\n",
    "### Tuples\n",
    "\n",
    "Tuples are simply the immutable brother/sister of the `list`. Tuples are immutable, ordered collections. This means that once a tuple is instantiated, all you can do is access its contents. You cannot make a tuple longer. You cannot reassign what is in a tuple (there are some subtleties to this which we will discuss shortly). Similar to lists, tuples are declared by passing an iterable to the `tuple()` constructor, with or without the syntactic sugary parenthesis (this works because Python automatically interprets comma separated things that aren't specifically specified otherwise as tuples)."
   ]
  },
  {
   "cell_type": "code",
   "execution_count": null,
   "metadata": {},
   "outputs": [],
   "source": [
    "my_first_tuple = tuple([1, 2])\n",
    "my_first_tuple"
   ]
  },
  {
   "cell_type": "code",
   "execution_count": null,
   "metadata": {},
   "outputs": [],
   "source": [
    "my_other_tuple = (1, 2)\n",
    "my_other_tuple"
   ]
  },
  {
   "cell_type": "code",
   "execution_count": 8,
   "metadata": {},
   "outputs": [
    {
     "data": {
      "text/plain": [
       "(1, 2)"
      ]
     },
     "execution_count": 8,
     "metadata": {},
     "output_type": "execute_result"
    }
   ],
   "source": [
    "my_third_tuple = 1, 2\n",
    "my_third_tuple"
   ]
  },
  {
   "cell_type": "markdown",
   "metadata": {},
   "source": [
    "What are the direct implications of using a tuple versus a list? Well, suppose we are trying to grab the even numbers, stored in some collection, say the numbers 1-20. If we were to do this with a list, that might look like the following..."
   ]
  },
  {
   "cell_type": "code",
   "execution_count": 9,
   "metadata": {},
   "outputs": [
    {
     "data": {
      "text/plain": [
       "[2, 4, 6, 8, 10, 12, 14, 16, 18, 20]"
      ]
     },
     "execution_count": 9,
     "metadata": {},
     "output_type": "execute_result"
    }
   ],
   "source": [
    "evens = []\n",
    "for element in range(1, 21):\n",
    "    if element % 2 == 0:\n",
    "        evens.append(element)\n",
    "evens"
   ]
  },
  {
   "cell_type": "markdown",
   "metadata": {},
   "source": [
    "We could try to do this using a tuple instead of a list with `evens = ()`, but once we tried to run our code we would immediately get an error that says `AttributeError: 'tuple' object has no attribute 'append'` (try this out by changing the code in the cell above). The error message is pretty self explanatory. In plain English, it tells us that tuples have no ability to append. This is just as we expected, given that they are immutable.\n",
    "\n",
    "You might be asking yourself what a tuple can store? The answer is, just as with lists, anything! Just as with lists, the elements of tuples can be accessed via zero-based indexing, and looped through with a `for` loop. And just as with lists, the elements in a tuple can be either homogeneous or heterogeneous (know though, that there are structures in Python that enforce homogeneity). Let's stick with looking at tuples for now, and take a look at some of the things we can store."
   ]
  },
  {
   "cell_type": "code",
   "execution_count": 10,
   "metadata": {
    "collapsed": true
   },
   "outputs": [],
   "source": [
    "t = (1, 3.5)"
   ]
  },
  {
   "cell_type": "code",
   "execution_count": 11,
   "metadata": {},
   "outputs": [
    {
     "data": {
      "text/plain": [
       "int"
      ]
     },
     "execution_count": 11,
     "metadata": {},
     "output_type": "execute_result"
    }
   ],
   "source": [
    "type(t[0])"
   ]
  },
  {
   "cell_type": "code",
   "execution_count": 12,
   "metadata": {},
   "outputs": [
    {
     "data": {
      "text/plain": [
       "float"
      ]
     },
     "execution_count": 12,
     "metadata": {},
     "output_type": "execute_result"
    }
   ],
   "source": [
    "type(t[1])"
   ]
  },
  {
   "cell_type": "code",
   "execution_count": 13,
   "metadata": {},
   "outputs": [
    {
     "data": {
      "text/plain": [
       "list"
      ]
     },
     "execution_count": 13,
     "metadata": {},
     "output_type": "execute_result"
    }
   ],
   "source": [
    "t = (1, [1, 2])\n",
    "type(t[1])"
   ]
  },
  {
   "cell_type": "code",
   "execution_count": 14,
   "metadata": {},
   "outputs": [
    {
     "data": {
      "text/plain": [
       "tuple"
      ]
     },
     "execution_count": 14,
     "metadata": {},
     "output_type": "execute_result"
    }
   ],
   "source": [
    "t = (1, (1, 2))\n",
    "type(t[1])"
   ]
  },
  {
   "cell_type": "markdown",
   "metadata": {},
   "source": [
    "One tricky thing about tuples is that even though they are immutable, if they are storing any mutable data types, those structures **can** be changed!"
   ]
  },
  {
   "cell_type": "code",
   "execution_count": 15,
   "metadata": {
    "collapsed": true
   },
   "outputs": [],
   "source": [
    "t = (1, [1, 2])"
   ]
  },
  {
   "cell_type": "code",
   "execution_count": 16,
   "metadata": {},
   "outputs": [
    {
     "data": {
      "text/plain": [
       "(1, [1, 2, 3])"
      ]
     },
     "execution_count": 16,
     "metadata": {},
     "output_type": "execute_result"
    }
   ],
   "source": [
    "t[1].append(3)\n",
    "t"
   ]
  },
  {
   "cell_type": "markdown",
   "metadata": {},
   "source": [
    "**Note**: This is the first time that you've seen the `append()` method used directly on something that doesn't look like a list. This works because Python, upon accessing the contents of `t` at index 1, will find a list. It will then immediately call the `append()` method on that structure. This concept of being able to act on data structures that you don't necessarily know the contents of is very powerful, and we will use it time and again.\n",
    "\n",
    "One last thing to note is that since tuples are immutable, they have very few methods associated with them - only `count()` and `index()`. For this reason, we say that they are very lightweight; they don't take up much space in memory, but also don't have much built in functionality.\n",
    "\n",
    "**Tuple Questions**\n",
    "\n",
    "1. Make a tuple called `my_tuple` with the values `1` and `\"hello\"` in it. \n",
    "    1. How do you access the `1` in `my_tuple`?\n",
    "    2. How do you access the `\"hello\"` in `my_tuple`?\n",
    "2. Can you change the `\"hello\"` entry in `my_tuple` to `\"hello there\"`? Why or why not?\n",
    "3. Make a tuple called `other_tuple` with the values `\"other\"` and an empty list in it.\n",
    "    1. Add the word `\"there\"` to the list in the tuple. Why can you do this?\n",
    "    2. Add the word `\"hello\"` to the list in the tuple as the first element in the list."
   ]
  },
  {
   "cell_type": "code",
   "execution_count": 3,
   "metadata": {},
   "outputs": [
    {
     "data": {
      "text/plain": [
       "'hello'"
      ]
     },
     "execution_count": 3,
     "metadata": {},
     "output_type": "execute_result"
    }
   ],
   "source": [
    "# 1. Make a tuple called my_tuple with the values 1 and \"hello\" in it.\n",
    "t = (1, \"hello\")\n",
    "t\n",
    "\n",
    "# A.\n",
    "t[0]\n",
    "\n",
    "# B.\n",
    "t[1]\n"
   ]
  },
  {
   "cell_type": "code",
   "execution_count": null,
   "metadata": {},
   "outputs": [],
   "source": [
    "# 2.\n",
    "\n",
    "# No you can´t unless the word hello is stored in a list. The items in that list can be changed"
   ]
  },
  {
   "cell_type": "code",
   "execution_count": 5,
   "metadata": {},
   "outputs": [
    {
     "data": {
      "text/plain": [
       "('other', ['hello', 'there'])"
      ]
     },
     "execution_count": 5,
     "metadata": {},
     "output_type": "execute_result"
    }
   ],
   "source": [
    "# 3. \n",
    "other_tuple = (\"other\", [])\n",
    "\n",
    "# A. \n",
    "\n",
    "other_tuple[1].append(\"there\")\n",
    "other_tuple\n",
    "\n",
    "# B. \n",
    "other_tuple[1].insert(0,\"hello\")\n",
    "other_tuple"
   ]
  },
  {
   "cell_type": "code",
   "execution_count": null,
   "metadata": {},
   "outputs": [],
   "source": []
  }
 ],
 "metadata": {
  "kernelspec": {
   "display_name": "Python 3",
   "language": "python",
   "name": "python3"
  },
  "language_info": {
   "codemirror_mode": {
    "name": "ipython",
    "version": 3
   },
   "file_extension": ".py",
   "mimetype": "text/x-python",
   "name": "python",
   "nbconvert_exporter": "python",
   "pygments_lexer": "ipython3",
   "version": "3.7.4"
  }
 },
 "nbformat": 4,
 "nbformat_minor": 1
}
